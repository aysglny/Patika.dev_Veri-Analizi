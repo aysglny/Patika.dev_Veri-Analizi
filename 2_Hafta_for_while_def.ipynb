{
  "nbformat": 4,
  "nbformat_minor": 0,
  "metadata": {
    "colab": {
      "provenance": [],
      "authorship_tag": "ABX9TyPriDQMWh+e2PgMQgbomz94",
      "include_colab_link": true
    },
    "kernelspec": {
      "name": "python3",
      "display_name": "Python 3"
    },
    "language_info": {
      "name": "python"
    }
  },
  "cells": [
    {
      "cell_type": "markdown",
      "metadata": {
        "id": "view-in-github",
        "colab_type": "text"
      },
      "source": [
        "<a href=\"https://colab.research.google.com/github/aysglny/Patika.dev_Veri-Analizi/blob/main/2_Hafta_for_while_def.ipynb\" target=\"_parent\"><img src=\"https://colab.research.google.com/assets/colab-badge.svg\" alt=\"Open In Colab\"/></a>"
      ]
    },
    {
      "cell_type": "code",
      "source": [],
      "metadata": {
        "id": "ExUPT2jp27-J"
      },
      "execution_count": null,
      "outputs": []
    },
    {
      "cell_type": "markdown",
      "source": [
        "PATİKA DEV VERİ ANALİZİ 2.HAFTA ÖDEVİ"
      ],
      "metadata": {
        "id": "ofyw5wk5f95W"
      }
    },
    {
      "cell_type": "code",
      "execution_count": null,
      "metadata": {
        "id": "IfpdsSz5fqZC"
      },
      "outputs": [],
      "source": [
        "#Girilen sayının pozitif, negatif veya sıfır olduğunu yazan koşul"
      ]
    },
    {
      "cell_type": "code",
      "source": [
        "sayı=int(input( \"bir sayı girin: \"))\n",
        "if sayı>0:\n",
        "    print(\"sayı pozitif\")\n",
        "if sayı<0:\n",
        "    print(\"sayı negatif\")\n",
        "if sayı==0:\n",
        "    print(\"sayı sıfır\")"
      ],
      "metadata": {
        "colab": {
          "base_uri": "https://localhost:8080/"
        },
        "id": "2D7q09mHgZvY",
        "outputId": "1af3b1b4-b632-48a1-836f-c34277e62164"
      },
      "execution_count": null,
      "outputs": [
        {
          "output_type": "stream",
          "name": "stdout",
          "text": [
            "bir sayı girin: -3\n",
            "sayı negatif\n"
          ]
        }
      ]
    },
    {
      "cell_type": "code",
      "source": [
        "#Girilen sayının tek mi çift mi olduğunu yazan koşul"
      ],
      "metadata": {
        "id": "CyFgrgqcgzaS"
      },
      "execution_count": null,
      "outputs": []
    },
    {
      "cell_type": "code",
      "source": [
        "sayı=int(input( \"bir sayı girin: \"))\n",
        "if sayı%2==0:\n",
        "    print(\"sayı çift\")\n",
        "if sayı%2!=0:\n",
        "    print(\"sayı tek\")"
      ],
      "metadata": {
        "colab": {
          "base_uri": "https://localhost:8080/"
        },
        "id": "CHcFZAJ8g4sS",
        "outputId": "0d5ead36-f1ff-4361-d7db-309dcd138bd8"
      },
      "execution_count": null,
      "outputs": [
        {
          "output_type": "stream",
          "name": "stdout",
          "text": [
            "bir sayı girin: 7\n",
            "sayı tek\n"
          ]
        }
      ]
    },
    {
      "cell_type": "code",
      "source": [
        "#Girilen nota göre harf aralığını yazan koşul"
      ],
      "metadata": {
        "id": "U4J2ziajg--I"
      },
      "execution_count": null,
      "outputs": []
    },
    {
      "cell_type": "code",
      "source": [
        "notunuz=float(input(\"Notunuzu girin (0-100 arası): \"))\n",
        "\n",
        "if notunuz >= 90 and notunuz <= 100:\n",
        "    print(\"Harf notu: AA\")\n",
        "elif notunuz >= 85:\n",
        "    print(\"Harf notu: BA\")\n",
        "elif notunuz >= 80:\n",
        "    print(\"Harf notu: BB\")\n",
        "elif notunuz >= 75:\n",
        "    print(\"Harf notu: CB\")\n",
        "elif notunuz >= 70:\n",
        "    print(\"Harf notu: CC\")\n",
        "elif notunuz >= 65:\n",
        "    print(\"Harf notu: DC\")\n",
        "elif notunuz >= 60:\n",
        "    print(\"Harf notu: DD\")\n",
        "elif notunuz >= 50:\n",
        "    print(\"Harf notu: FD\")\n",
        "elif notunuz >= 0:\n",
        "    print(\"Harf notu: FF\")\n",
        "else:\n",
        "    print(\"Geçersiz not girdiniz! Lütfen 0 ile 100 arasında bir değer girin.\")"
      ],
      "metadata": {
        "colab": {
          "base_uri": "https://localhost:8080/"
        },
        "id": "kE-HEmYIhD1j",
        "outputId": "71a4b9ea-01d3-45c2-f91d-a4acc68e0432"
      },
      "execution_count": null,
      "outputs": [
        {
          "output_type": "stream",
          "name": "stdout",
          "text": [
            "Notunuzu girin (0-100 arası): 77.5\n",
            "Harf notu: CB\n"
          ]
        }
      ]
    },
    {
      "cell_type": "code",
      "source": [
        "#Girilen ismin karakter sayısı 5'ten büyükse \" uzun bir isminiz var\" , değilse direkt ismini yazsın."
      ],
      "metadata": {
        "id": "PMViu0jVizYm"
      },
      "execution_count": null,
      "outputs": []
    },
    {
      "cell_type": "code",
      "source": [
        "isim=input(\"isminizi girin: \")\n",
        "if len(isim)>5:\n",
        "    print(\"uzun bir isminiz var :)\")\n",
        "else:\n",
        "    print(isim)"
      ],
      "metadata": {
        "colab": {
          "base_uri": "https://localhost:8080/"
        },
        "id": "rkbS9IUDi8eV",
        "outputId": "20a34d8e-c471-49fb-f649-0ddd5334d067"
      },
      "execution_count": null,
      "outputs": [
        {
          "output_type": "stream",
          "name": "stdout",
          "text": [
            "isminizi girin: sinan\n",
            "sinan\n"
          ]
        }
      ]
    },
    {
      "cell_type": "code",
      "source": [
        "#Girilen sayının asal olup olmadığını bulan kod dizisi(for & while)"
      ],
      "metadata": {
        "id": "2z4oXOL1jYCZ"
      },
      "execution_count": null,
      "outputs": []
    },
    {
      "cell_type": "code",
      "source": [
        "#For döngüsü ile\n",
        "\n",
        "sayı = int(input(\"Bir sayı girin: \"))\n",
        "\n",
        "if sayı > 1:\n",
        "    for i in range(2, sayı):\n",
        "        if sayı % i == 0:\n",
        "            print(\"Sayı asal değildir\")\n",
        "            break\n",
        "    else:\n",
        "        print(\"Sayı asaldır\")\n",
        "else:\n",
        "    print(\"Sayı asal değildir\")"
      ],
      "metadata": {
        "colab": {
          "base_uri": "https://localhost:8080/"
        },
        "id": "bwuzjwyvjgE8",
        "outputId": "c605948a-e970-4e8d-cd60-6509e35d8641"
      },
      "execution_count": null,
      "outputs": [
        {
          "output_type": "stream",
          "name": "stdout",
          "text": [
            "Bir sayı girin: 88\n",
            "Sayı asal değildir\n"
          ]
        }
      ]
    },
    {
      "cell_type": "code",
      "source": [
        "#While döngüsü ile\n",
        "\n",
        "sayı = int(input(\"Bir sayı girin: \"))\n",
        "\n",
        "if sayı > 1:\n",
        "    i = 2\n",
        "    while i < sayı:\n",
        "        if sayı % i == 0:\n",
        "            print(\"Sayı asal değildir\")\n",
        "            break\n",
        "        i += 1\n",
        "    else:\n",
        "        print(\"Sayı asaldır\")\n",
        "else:\n",
        "    print(\"Sayı asal değildir\")"
      ],
      "metadata": {
        "colab": {
          "base_uri": "https://localhost:8080/"
        },
        "id": "5Hkurv__k8-9",
        "outputId": "934aa0e5-864f-46c1-d34f-76e0ebafa153"
      },
      "execution_count": null,
      "outputs": [
        {
          "output_type": "stream",
          "name": "stdout",
          "text": [
            "Bir sayı girin: 76\n",
            "Sayı asal değildir\n"
          ]
        }
      ]
    },
    {
      "cell_type": "code",
      "source": [
        "#notlar=[45,85,75,50] içinde 75 değerininin indisini yazan kod dizisi"
      ],
      "metadata": {
        "id": "qG3RQzlOlFfg"
      },
      "execution_count": null,
      "outputs": []
    },
    {
      "cell_type": "code",
      "source": [
        "notlar=[45,85,75,50]\n",
        "notu=int(input(\"Bir not girin: \"))\n",
        "notlar.index(notu)"
      ],
      "metadata": {
        "colab": {
          "base_uri": "https://localhost:8080/"
        },
        "id": "UMu8S3CulOnV",
        "outputId": "af74a99e-5d90-462e-ef63-5c5856f29061"
      },
      "execution_count": null,
      "outputs": [
        {
          "name": "stdout",
          "output_type": "stream",
          "text": [
            "Bir not girin: 75\n"
          ]
        },
        {
          "output_type": "execute_result",
          "data": {
            "text/plain": [
              "2"
            ]
          },
          "metadata": {},
          "execution_count": 24
        }
      ]
    },
    {
      "cell_type": "code",
      "source": [
        "notlar = [45, 85, 75, 50]\n",
        "print(notlar.index(75))"
      ],
      "metadata": {
        "colab": {
          "base_uri": "https://localhost:8080/"
        },
        "id": "FSsgqaFAmJ7s",
        "outputId": "9de81cc4-0025-4696-b9bb-21009fcde7ba"
      },
      "execution_count": null,
      "outputs": [
        {
          "output_type": "stream",
          "name": "stdout",
          "text": [
            "2\n"
          ]
        }
      ]
    },
    {
      "cell_type": "markdown",
      "source": [],
      "metadata": {
        "id": "0DLKazBwfsBZ"
      }
    },
    {
      "cell_type": "code",
      "source": [
        "#Girilen sayının faktöriyelini alma ( for & while)"
      ],
      "metadata": {
        "id": "32kRgEzHmVgX"
      },
      "execution_count": null,
      "outputs": []
    },
    {
      "cell_type": "code",
      "source": [
        "#For ile\n",
        "\n",
        "sayi = int(input(\"Bir sayı girin: \"))\n",
        "sonuc = 1\n",
        "\n",
        "for i in range(1, sayi + 1):\n",
        "    sonuc = sonuc * i\n",
        "\n",
        "print(sonuc)"
      ],
      "metadata": {
        "colab": {
          "base_uri": "https://localhost:8080/"
        },
        "id": "ls-MUxCJnT4C",
        "outputId": "2b23e419-3dc0-49f3-ad33-e863d634f286"
      },
      "execution_count": null,
      "outputs": [
        {
          "output_type": "stream",
          "name": "stdout",
          "text": [
            "Bir sayı girin: 3\n",
            "6\n"
          ]
        }
      ]
    },
    {
      "cell_type": "code",
      "source": [
        "#While ile\n",
        "\n",
        "sayi = int(input(\"Bir sayı girin: \"))\n",
        "sonuc = 1\n",
        "i = 1\n",
        "\n",
        "while i <= sayi:\n",
        "    sonuc *= i\n",
        "    i += 1\n",
        "\n",
        "print(sonuc)"
      ],
      "metadata": {
        "colab": {
          "base_uri": "https://localhost:8080/"
        },
        "id": "6smo-9joojcE",
        "outputId": "5374eb47-b3cb-467c-ee19-dbfc372012f8"
      },
      "execution_count": null,
      "outputs": [
        {
          "output_type": "stream",
          "name": "stdout",
          "text": [
            "Bir sayı girin: 4\n",
            "24\n"
          ]
        }
      ]
    },
    {
      "cell_type": "code",
      "source": [
        "#Kullanıcıdan pozitif bir sayı bekleyen, pozitifi de gördüğü an bastıran, negatif sayı girildikçe bir daha soran yapı (for döngüsü ile)"
      ],
      "metadata": {
        "id": "OVMJlBhRox5D"
      },
      "execution_count": null,
      "outputs": []
    },
    {
      "cell_type": "code",
      "source": [
        "#for döngüsü ile ???? sadece 1 kez soruyor\n",
        "sayı=int(input(\"Pozitif bir sayı girin: \"))\n",
        "if sayı>=0:\n",
        "  print ( \"sayı pozitiftir\")\n",
        "else:\n",
        "  print(\"Negatif sayı girdiniz, tekrar deneyin.\")\n",
        "  sayı=int(input(\"Pozitif bir sayı girin: \"))"
      ],
      "metadata": {
        "colab": {
          "base_uri": "https://localhost:8080/"
        },
        "id": "aPgupaoXs5q9",
        "outputId": "d6e506d7-89a2-4bac-d747-4dada1497ea2"
      },
      "execution_count": null,
      "outputs": [
        {
          "name": "stdout",
          "output_type": "stream",
          "text": [
            "Pozitif bir sayı girin: -8\n",
            "Negatif sayı girdiniz, tekrar deneyin.\n",
            "Pozitif bir sayı girin: -4\n"
          ]
        }
      ]
    },
    {
      "cell_type": "code",
      "source": [
        "#While ile\n",
        "sayı = int(input(\"Pozitif bir sayı girin: \"))\n",
        "\n",
        "while sayı < 0:\n",
        "    print(\"Negatif sayı girdiniz, tekrar deneyin.\")\n",
        "    sayı = int(input(\"Pozitif bir sayı girin: \"))\n",
        "\n",
        "print(\"Sayı pozitiftir.\")"
      ],
      "metadata": {
        "colab": {
          "base_uri": "https://localhost:8080/"
        },
        "id": "2O27FWVatMI-",
        "outputId": "772ecebb-e362-4021-c3bb-ae5847971d9a"
      },
      "execution_count": null,
      "outputs": [
        {
          "output_type": "stream",
          "name": "stdout",
          "text": [
            "Pozitif bir sayı girin: -2\n",
            "Negatif sayı girdiniz, tekrar deneyin.\n",
            "Pozitif bir sayı girin: 6\n",
            "Sayı pozitiftir.\n"
          ]
        }
      ]
    },
    {
      "cell_type": "code",
      "source": [
        "#Fonksiyon ile girilen sayının asal olup olmadığını bulan kod dizisi(for & while)"
      ],
      "metadata": {
        "id": "9NCpj2y6tOYb"
      },
      "execution_count": null,
      "outputs": []
    },
    {
      "cell_type": "code",
      "source": [
        "def asal_mi(sayi):\n",
        "    for i in range(2, sayi):\n",
        "        if sayi % i == 0:\n",
        "            return False\n",
        "    return sayi >= 2\n",
        "\n",
        "sayı = int(input(\"Bir sayı girin: \"))\n",
        "if asal(sayı):\n",
        "    print(\"Sayı asaldır.\")\n",
        "else:\n",
        "    print(\"Sayı asal değildir.\")"
      ],
      "metadata": {
        "colab": {
          "base_uri": "https://localhost:8080/"
        },
        "id": "hmstwnNowM8E",
        "outputId": "f9efb1fb-1c6a-48bd-a645-25517976eea6"
      },
      "execution_count": null,
      "outputs": [
        {
          "output_type": "stream",
          "name": "stdout",
          "text": [
            "Bir sayı girin: 9\n",
            "Sayı asal değildir.\n"
          ]
        }
      ]
    },
    {
      "cell_type": "code",
      "source": [
        "sayı = int(input(\"Bir sayı girin: \"))\n",
        "def asal(sayı):\n",
        "    if sayı < 2:\n",
        "        return False\n",
        "    i = 2\n",
        "    while i < sayı:\n",
        "        if sayı % i == 0:\n",
        "            return False\n",
        "        i += 1\n",
        "    return True\n",
        "\n",
        "if asal(sayı):\n",
        "    print(\"Sayı asaldır.\")\n",
        "else:\n",
        "    print(\"Sayı asal değildir.\")"
      ],
      "metadata": {
        "colab": {
          "base_uri": "https://localhost:8080/"
        },
        "id": "UW-lka_JvcBf",
        "outputId": "1635a1f5-87f9-4eef-aab2-e0c4a600aa3e"
      },
      "execution_count": null,
      "outputs": [
        {
          "output_type": "stream",
          "name": "stdout",
          "text": [
            "Bir sayı girin: 7\n",
            "Sayı asaldır.\n"
          ]
        }
      ]
    },
    {
      "cell_type": "code",
      "source": [
        "#Fonksiyon ile girilen sayının faktöriyelini alma (for & while)"
      ],
      "metadata": {
        "id": "aB6bYYbZwaLL"
      },
      "execution_count": null,
      "outputs": []
    },
    {
      "cell_type": "code",
      "source": [
        "sayı = int(input(\"Bir sayı girin: \"))\n",
        "def faktoriyel(sayı):\n",
        "    sonuc = 1\n",
        "    for i in range(1, sayı + 1):\n",
        "        sonuc = sonuc * i\n",
        "    return sonuc\n",
        "\n",
        "print(faktoriyel(sayı))"
      ],
      "metadata": {
        "colab": {
          "base_uri": "https://localhost:8080/"
        },
        "id": "B3VTEPK8wwrA",
        "outputId": "e8809682-cb04-4de7-ef37-71927483c808"
      },
      "execution_count": null,
      "outputs": [
        {
          "output_type": "stream",
          "name": "stdout",
          "text": [
            "Bir sayı girin: 5\n",
            "120\n"
          ]
        }
      ]
    },
    {
      "cell_type": "code",
      "source": [
        "def faktoriyel(sayı):\n",
        "    sonuc=1\n",
        "    i=1\n",
        "    while i<=sayı:\n",
        "        sonuc*=i\n",
        "        i+=1\n",
        "    return sonuc\n",
        "\n",
        "print(faktoriyel(5))\n",
        "print(faktoriyel(6))\n",
        "print(faktoriyel(7))\n"
      ],
      "metadata": {
        "colab": {
          "base_uri": "https://localhost:8080/"
        },
        "id": "7DFcXfoFzzZZ",
        "outputId": "f5556afa-e543-45f5-f0e9-0ec67a18ad40"
      },
      "execution_count": null,
      "outputs": [
        {
          "output_type": "stream",
          "name": "stdout",
          "text": [
            "120\n",
            "720\n",
            "5040\n"
          ]
        }
      ]
    },
    {
      "cell_type": "code",
      "source": [],
      "metadata": {
        "id": "QJY8gEW00Q0f"
      },
      "execution_count": null,
      "outputs": []
    }
  ]
}